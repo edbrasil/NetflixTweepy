{
 "cells": [
  {
   "cell_type": "markdown",
   "metadata": {},
   "source": [
    "# Using Tweepy and NLTK to Analyze Tweets about Netflix #Punisher"
   ]
  },
  {
   "cell_type": "markdown",
   "metadata": {},
   "source": [
    "In this Jupyter notebook, I intend to stream twitter data about The Punisher using Python's Tweepy library. I will then flatten the tweets, load them to Pandas, and analyze using techniques including, but not limited to, NLTK.\n",
    "\n",
    "\n",
    "\n",
    "A few modules used are checked in to my GitHub page (flatten_tweets, slistener)."
   ]
  },
  {
   "cell_type": "markdown",
   "metadata": {},
   "source": [
    "## 1. Setup and Stream Tweets"
   ]
  },
  {
   "cell_type": "markdown",
   "metadata": {},
   "source": [
    "First, import libraries and setup matplotlib to run inline."
   ]
  },
  {
   "cell_type": "code",
   "execution_count": 1,
   "metadata": {},
   "outputs": [],
   "source": [
    "%matplotlib inline\n",
    "\n",
    "import json\n",
    "import glob\n",
    "import pandas as pd\n",
    "import numpy as np\n",
    "from tweepy import OAuthHandler, API, Stream\n",
    "from slistener import SListener\n",
    "from flatten_tweets import flatten_tweets, check_word_in_tweet\n",
    "import matplotlib.pyplot as plt\n",
    "from nltk.sentiment.vader import SentimentIntensityAnalyzer"
   ]
  },
  {
   "cell_type": "markdown",
   "metadata": {},
   "source": [
    "Load credentials from a JSON.  Since these keys are personal, they are kept in a file that is not checked in."
   ]
  },
  {
   "cell_type": "code",
   "execution_count": 2,
   "metadata": {},
   "outputs": [],
   "source": [
    "def load_cred():\n",
    "    with open('twitter_credentials.json') as cred_data:\n",
    "        info = json.load(cred_data)\n",
    "        consumer_key = info['CONSUMER_KEY']\n",
    "        consumer_secret = info['CONSUMER_SECRET']\n",
    "        access_key = info['ACCESS_KEY']\n",
    "        access_secret = info['ACCESS_SECRET']\n",
    "    \n",
    "    return consumer_key, consumer_secret, access_key, access_secret\n",
    "\n",
    "consumer_key, consumer_secret, access_token, access_token_secret = load_cred()"
   ]
  },
  {
   "cell_type": "markdown",
   "metadata": {},
   "source": [
    "Authorization and initialization"
   ]
  },
  {
   "cell_type": "code",
   "execution_count": 3,
   "metadata": {},
   "outputs": [],
   "source": [
    "auth = OAuthHandler(consumer_key, consumer_secret)\n",
    "auth.set_access_token(access_token, access_token_secret)\n",
    "api = API(auth)"
   ]
  },
  {
   "cell_type": "markdown",
   "metadata": {},
   "source": [
    "Set up words to track (in this case just #Punisher)"
   ]
  },
  {
   "cell_type": "code",
   "execution_count": 4,
   "metadata": {},
   "outputs": [],
   "source": [
    "keywords_to_track = ['#Punisher']"
   ]
  },
  {
   "cell_type": "markdown",
   "metadata": {},
   "source": [
    "SListener module is checked in to my GitHub page.  Here, instantiate SListener, Stream, and begin collecting tweets."
   ]
  },
  {
   "cell_type": "code",
   "execution_count": null,
   "metadata": {},
   "outputs": [],
   "source": [
    "listen = SListener(api)\n",
    "stream = Stream(auth, listen)\n",
    "stream.filter(track = keywords_to_track)"
   ]
  },
  {
   "cell_type": "markdown",
   "metadata": {},
   "source": [
    "## 2. Data Intake and Processing"
   ]
  },
  {
   "cell_type": "markdown",
   "metadata": {},
   "source": [
    "Load JSONs. These were collected for a few hours over a couple of days (1/20 - 1/21).  Season 2 of The Punisher was released on 1/18/2019."
   ]
  },
  {
   "cell_type": "code",
   "execution_count": 5,
   "metadata": {},
   "outputs": [
    {
     "name": "stdout",
     "output_type": "stream",
     "text": [
      "374 tweets being analyzed.\n"
     ]
    }
   ],
   "source": [
    "tweet_list = []\n",
    "\n",
    "for file in glob.glob(\"streamer*.json\"):\n",
    "    with open(file, 'r') as tweet_data:\n",
    "        tweets_json = filter(None, tweet_data.read().split(\"\\n\"))\n",
    "        \n",
    "    for tweet in tweets_json:\n",
    "        tweet_obj = json.loads(tweet)\n",
    "        tweet_list.append(tweet_obj)\n",
    "        \n",
    "print(\"{0} tweets being analyzed.\".format(len(tweet_list)))"
   ]
  },
  {
   "cell_type": "markdown",
   "metadata": {},
   "source": [
    "Flatten tweets, loading into Pandas DataFrame, print first 5 rows of text."
   ]
  },
  {
   "cell_type": "code",
   "execution_count": 6,
   "metadata": {},
   "outputs": [
    {
     "name": "stdout",
     "output_type": "stream",
     "text": [
      "Text from first 5 tweets:\n",
      "0    RT @Randomgamerma: My reaction to season 2 of ...\n",
      "1    Someone give @benbarnes his goddamn Oscar omg ...\n",
      "2                       #Punisher punish her real good\n",
      "3    RT @venuspriestess: @benbarnes screams of terr...\n",
      "4    The Punisher season 2 on @netflix is getting r...\n",
      "Name: text, dtype: object\n"
     ]
    }
   ],
   "source": [
    "tweets = flatten_tweets(tweet_list)\n",
    "ds_tweets = pd.DataFrame(tweets)\n",
    "print('Text from first 5 tweets:')\n",
    "print(ds_tweets['text'].head(5))"
   ]
  },
  {
   "cell_type": "code",
   "execution_count": 7,
   "metadata": {},
   "outputs": [
    {
     "name": "stdout",
     "output_type": "stream",
     "text": [
      "Proportion of #Punisher tweets: 1.0\n",
      "Proportion of #Netflix tweets: 0.0855614973262032\n"
     ]
    }
   ],
   "source": [
    "#punish = ds_tweets['text'].str.contains('#Punisher',case = False)\n",
    "punish = check_word_in_tweet('#Punisher', ds_tweets)\n",
    "print(\"Proportion of #Punisher tweets:\", np.sum(punish) / ds_tweets.shape[0])\n",
    "netflix = check_word_in_tweet('#Netflix', ds_tweets)\n",
    "print(\"Proportion of #Netflix tweets:\",np.sum(netflix) / ds_tweets.shape[0])"
   ]
  },
  {
   "cell_type": "markdown",
   "metadata": {},
   "source": [
    "A proportion of 1.0 shows that every tweet contains #Punisher somewhere, as expected."
   ]
  },
  {
   "cell_type": "markdown",
   "metadata": {},
   "source": [
    "## 3. Sentiment Analysis"
   ]
  },
  {
   "cell_type": "markdown",
   "metadata": {},
   "source": [
    "Instantiate new SentimentIntensityAnalyzer and generate sentiment scores"
   ]
  },
  {
   "cell_type": "code",
   "execution_count": 8,
   "metadata": {},
   "outputs": [],
   "source": [
    "sid = SentimentIntensityAnalyzer()\n",
    "sentiment_scores = ds_tweets['text'].apply(sid.polarity_scores)"
   ]
  },
  {
   "cell_type": "markdown",
   "metadata": {},
   "source": [
    "Let's take a look at some positive and negative tweets. <br>\n",
    "**WARNING:** Potential spoilers in tweets."
   ]
  },
  {
   "cell_type": "code",
   "execution_count": 9,
   "metadata": {},
   "outputs": [
    {
     "name": "stdout",
     "output_type": "stream",
     "text": [
      "Print out the text of 5 positive tweets:\n",
      "\n",
      "['I LOVE marvel &amp; DC💕💕💕❤️ #InfinityWar #Marvel #BlackPanther #Thanos #IronMan #Hulk #CaptainAmerica #WinterSoldier… https://t.co/BolXvHdFRU'\n",
      " 'I LOVE marvel &amp; DC💕💕💕❤️ #InfinityWar #Marvel #BlackPanther #Thanos #IronMan #Hulk #CaptainAmerica #WinterSoldier… https://t.co/HMrYwGQ8LJ'\n",
      " 'I knew from the very start that Krista likes Billy 😂😂😂 oh Krista i wish u know what Billy did #Punisher'\n",
      " 'Please help me 💀🖤 spread this \\nand save the punisher ⬇️ https://t.co/pfNCPNU8Ce\\n\\n#thepunisher #punisher #marvel… https://t.co/AIiw0YeLbf'\n",
      " 'Aww!!! Just getting to start the new season of #Punisher and I was so happy to see your name on it again @KitMoxie !!']\n",
      "\n",
      "Print out the text of 5 negative tweets:\n",
      "['RT @venuspriestess: @benbarnes screams of terror and pain during the last episode of Season 1 of #Punisher were fucking Oscar worthy and so…'\n",
      " 'So much bloody, Punisher, bum.\\n#Punisher #punisherseason2'\n",
      " 'Watching season two of #Punisher and i gotta say @benbarnes was on fire 👏🏻🔥 i actually felt a little bad for Billy 😂😭'\n",
      " \"Mahoney needs to stay out of it. He knows Frank's reputation so how in the hell can he contain both Frank and Billy? 😂😂😂 #Punisher\"\n",
      " 'Krista, the dude just told you he \"might\" have killed his bestfriend\\'s family and you\\'re jealous bcos he went to se… https://t.co/qCeIY32qlM']\n",
      "Average sentiment for #Punisher: -0.024285561497326216\n"
     ]
    }
   ],
   "source": [
    "ds_tweets['sentiment'] = 0\n",
    "\n",
    "for i in range(len(sentiment_scores)):\n",
    "    ds_tweets.loc[i,'sentiment'] = sentiment_scores[i]['compound']\n",
    "    \n",
    "print(\"Print out the text of 5 positive tweets:\")\n",
    "print()\n",
    "print(ds_tweets[ds_tweets['sentiment'] > 0.6]['text'].values[0:5])\n",
    "\n",
    "print()\n",
    "print(\"Print out the text of 5 negative tweets:\")\n",
    "print(ds_tweets[ds_tweets['sentiment'] < -0.6]['text'].values[0:5])\n",
    "\n",
    "# Generate average sentiment scores for #python\n",
    "sentiment_py = ds_tweets['sentiment'].mean()\n",
    "print(\"Average sentiment for #Punisher: {0}\".format(sentiment_py))"
   ]
  },
  {
   "cell_type": "markdown",
   "metadata": {},
   "source": [
    "**Observation:** The \"negative\" tweets don't appear negative at all, but rather have to do with the type of content in The Punisher, this needs adjusting."
   ]
  },
  {
   "cell_type": "code",
   "execution_count": null,
   "metadata": {},
   "outputs": [],
   "source": []
  }
 ],
 "metadata": {
  "kernelspec": {
   "display_name": "Python 3",
   "language": "python",
   "name": "python3"
  },
  "language_info": {
   "codemirror_mode": {
    "name": "ipython",
    "version": 3
   },
   "file_extension": ".py",
   "mimetype": "text/x-python",
   "name": "python",
   "nbconvert_exporter": "python",
   "pygments_lexer": "ipython3",
   "version": "3.6.4"
  }
 },
 "nbformat": 4,
 "nbformat_minor": 2
}
